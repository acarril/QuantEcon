{
 "cells": [
  {
   "cell_type": "markdown",
   "metadata": {},
   "source": [
    "Versión original en https://lectures.quantecon.org/py/mccall_model.html"
   ]
  },
  {
   "cell_type": "markdown",
   "metadata": {},
   "source": [
    "# El modelo McCall\n",
    "\n",
    "Una persona desempleada recibe en cada período una oferta de trabajo de salario $W_t$. En cualquier período $t$, la persona tiene dos opciones:\n",
    "1. Aceptar la oferta y trabajar permanentement a un salario constante $W_t$.\n",
    "2. Rechazar la oferta, recibir un seguro de desempleo $c$ y reconsiderar en el siguiente período.\n",
    "\n",
    "Asumimos que la secuencia de salarios ${W_t}$ es iid con una función de densidad de probabilidad $p_1,\\ldots,p_n$, donde $p_i$ es la probabilidad de observar una oferta de salario $W_t = w_i$ en el conjunto $w_1,\\ldots,w_n$. \n",
    "\n",
    "También asumimos que la persona vive infinitos períodos y que tiene como objetivo maximizar la suma esperada de ingresos descontados,\n",
    "$$ \\mathbb{E} \\sum_{t=0}^\\infty \\beta^t Y_t, \\tag{1}$$\n",
    "donde $\\beta\\in(0,1)$ es el factor de descuento. $Y_t$ es ingreso, el que es igual a su salario $W_t$ cuando está empleado, o igual a su compensación $c$ cuando está desempleado.\n",
    "\n",
    "## El *trade off*\n",
    "\n",
    "- Esperar mucho tiempo por una buena oferta de trabajo es costoso, ya que el futuro se descuenta.\n",
    "- Aceptar una mala oferta de trabajo temprano es costoso, ya que mejores ofertas podrían llegar en el futuro.\n",
    "\n",
    "Usaremos un modelo de **programación dinámica** para tomar una decisión óptima que tome en cuenta este *trade off*. Podemos pensar en este modelo como un procedimiento en dos pasos:\n",
    "1. Asignamos valores a los distintos \"estados\" (potenciales) de la persona, y\n",
    "2. deducimos acciones óptimas dados aquellos estados.\n",
    "\n",
    "A continuación revisamos estos pasos en detalle.\n",
    "\n",
    "### 1. La función de valor\n",
    "\n",
    "Para asignar un valor a los estados y valorizar compensación presente vs. futura tenemos que tomar en cuenta que\n",
    "- todos los pagos presentes que obtenemos de las distintas opciones, y que\n",
    "- los diferentes estados (ie. empleado o desempleado) a los que esas opciones llevarán en el siguiente período.\n",
    "\n",
    "Para ponderar correctamente estos dos aspectos del problema de decisión necesitamos **asignar valor** a los distintos estados. Para esto definimos $V(w)$ como el valor total acumulado que comienza el período actual desempleado pero con una oferta de trabajo $w$. Más precisamente, $V(w)$ denota el valor de la función objetivo (1) cuando la persona en esta sitación toma una decisión óptima en el presente y todos los futuros períodos.\n",
    "\n",
    "$V$ es una función que asigna a cada posible salario $w$ el máximo lifetime value que puede ser obtenido con aquella oferta en mano.\n",
    "Es crucial notar que $V$ debe satisfacer la siguiente recursión:\n",
    "$$ V(w) = \\max \\left\\{ \\frac{w}{1-\\beta}, c+\\beta \\sum_{i=1}^n V(w_i)p_i \\right\\} \\tag{2} $$\n",
    "para cada posible $w_i$ en $w_1,\\ldots,w_n$.\n",
    "\n",
    "La expresión en (2) es una versión de la **ecuación de Bellman**, la que es ubicua en modelos de economía dinámica y otras áreas de estudio que involucran planificación intertemporal.\n",
    "Podemos entender la intuición detrás de esta ecuación pensando en lo siguiente:\n",
    "- El primer término de la maximización, $\\frac{w}{1-\\beta}$, es el pago descontado presente de aceptar en este período la oferta $w$, ya que \n",
    "$$ \\sum_{t=0}^n \\beta^t Y_t = w + \\beta w + \\beta^2 w + \\ldots = \\frac{w}{1-\\beta}. $$\n",
    "- El segundo término de la maximización es el **valor de continuación**, que es el pago total de rechazar la oferta actual y actuar óptimamente en todos los períodos subsecuentes.\n",
    "\n",
    "Si optimizamos y elegimos la mejor ($\\max$) de estas dos opciones entonces obtendremos el máximo valor esperado, dada la oferta actual $w$.\n",
    "Sin embargo esto corresponde precisamente al término a la izquierda de la igualdad en (2).\n",
    "\n",
    "### La Política Óptima\n",
    "\n",
    "Supongamos que resolvemos (2) para una función $V$ desconocida.\n",
    "Una vez hecho esto, podemos determinar el comportamiento óptimo (ie. tomar el empleo del período o rechazarlo) simplemente eligiendo el máximo en la expresión a la derecha de la igualdad en (2).\n",
    "\n",
    "La elección óptima puede ser pensada como una **política**, que es a un mapeo de estados a acciones. En este caso, el estado corresponde a la oferta actual de salario $w$.\n",
    "Dado *cualquier* $w$, podemos inferir el mejor curso de acción al elegir el máximo en la expresión a la derecha de la igualdad en (2).\n",
    "De esta forma tenemos un mapeo de $\\mathbb{R}$ a $\\{0,1\\}$, y podemos escribir la política como\n",
    "$$ \\sigma(w) := 1\\left\\{ \\frac{w}{1-\\beta} \\geq c + \\beta \\sum_{i=1}^n V(w_i)p_i \\right\\}, $$\n",
    "donde $1\\{P\\}=1$ si $P$ es verdadero, y es igual a cero en caso contrario.\n",
    "\n",
    "Otra manera de expresar la política es escribiendo\n",
    "$$ \\sigma(w) := 1\\{w \\geq \\overline{w} \\}, $$\n",
    "donde\n",
    "$$ \\overline{w} := (1-\\beta) \\left\\{ c + \\beta\\sum_{i=1}^n V(w_i)p_i \\right\\}. $$\n",
    "En esta expresión $\\overline{w}$ denota al **salario de reserva**, una constante que depende de $\\beta$, $c$ y la distribución de salarios.\n",
    "La persona debería aceptar la oferta si y solo si la oferta actual supera al salario de reserva.\n",
    "Si podemos calcular la función de valor, entonces podemos calcular el salario de reserva."
   ]
  },
  {
   "cell_type": "markdown",
   "metadata": {},
   "source": [
    "# Calculando la política óptima (v1)\n",
    "\n",
    "Para poder resolver el modelo necesitamos calcular la función de valor para distintos puntos $w_1,\\ldots,w_n$.\n",
    "Al hacer esto identificaremos estos valores con el vector $v=(v_i)$, donde definimos $v_i := V(w_i)$.\n",
    "En términos de (2), este vector satisface el sistema de ecuaciones no lineales\n",
    "$$ v_i = \\max\\left\\{ \\frac{w_i}{1-\\beta}, c + \\beta\\sum_{i=1}^n v_i p_i \\right\\} \\qquad \\text{for } i=1,\\ldots,n. \\tag{3}$$\n",
    "De hecho, existe exactamente un sólo vector $v := (v_i)_{i=1}^n$ in $\\mathbb{R}^n$ que satisface esta ecuación.\n",
    "\n",
    "## El algoritmo\n",
    "\n",
    "Para calcular este vector podemos seguir los siguientes pasos:\n",
    "1. Elegir un valor inicial arbitrario para $v \\in \\mathbb{R}^n$\n",
    "2. Calcular un nuevo vector $v' \\in \\mathbb{R}^n$ de forma que\n",
    "$$ v'_i = \\max\\left\\{ \\frac{w_i}{1-\\beta}, c + \\beta\\sum_{i=1}^n v_i p_i \\right\\} \\qquad \\text{for } i=1,\\ldots,n. \\tag{4}$$\n",
    "3. Calcular una medida de desviación entre $v$ y $v'$, como por ejemplo $\\max_i |v_i - v'_i|$\n",
    "4. Si la desviación es más grande que algún nivel de tolerancia prefijado, fijar $v=v'$ y volver al paso 2; si no es así, continuar\n",
    "5. Devolver $v$.\n",
    "\n",
    "Este algoritmo devuelve un aproximación arbitrariamente buena de la verdadera solución de la función de valor en (3), es decir, la aproximación converge a la verdadera solución a medida que el nivel de tolerancia prefijado tiende a cero.\n",
    "\n",
    "## Teoría de Punto Fijo\n",
    "\n",
    "Definimos un mapeo $T$ de $\\mathbb{R}^n$ a sí mismo via\n",
    "$$ T v_i = \\max\\left\\{ \\frac{w_i}{1-\\beta}, c + \\beta\\sum_{i=1}^n v_i p_i \\right\\} \\qquad \\text{for } i=1,\\ldots,n. \\tag{5}$$"
   ]
  },
  {
   "cell_type": "markdown",
   "metadata": {},
   "source": [
    "## Implementación\n",
    "\n",
    "Comenzamos importando todos los paquetes que usaremos. `Numba.jit` es esencial para paralelizar algunos procesos."
   ]
  },
  {
   "cell_type": "code",
   "execution_count": 2,
   "metadata": {},
   "outputs": [],
   "source": [
    "import numpy as np\n",
    "from numba import jit\n",
    "import matplotlib.pyplot as plt\n",
    "import quantecon as qe\n",
    "from quantecon.distributions import BetaBinomial"
   ]
  },
  {
   "cell_type": "markdown",
   "metadata": {},
   "source": [
    "Primero definimos una distribución de salarios con la que trabajaremos."
   ]
  },
  {
   "cell_type": "code",
   "execution_count": 3,
   "metadata": {
    "scrolled": false
   },
   "outputs": [
    {
     "data": {
      "image/png": "[encoded data removed]",
      "text/plain": [
       "<Figure size 648x432 with 1 Axes>"
      ]
     },
     "metadata": {},
     "output_type": "display_data"
    }
   ],
   "source": [
    "# Distribución de salarios\n",
    "n, a, b = 50, 200, 100\n",
    "w_vals = np.linspace(10, 60, n+1)\n",
    "dist = BetaBinomial(n, a, b)\n",
    "p_vals = dist.pdf()\n",
    "# Graficar salarios\n",
    "fig, ax = plt.subplots(figsize=(9, 6))\n",
    "ax.stem(w_vals, p_vals, label='$p_i$')\n",
    "ax.set_xlabel('Salario')\n",
    "ax.set_ylabel('Probabilidad')\n",
    "plt.show()"
   ]
  },
  {
   "cell_type": "code",
   "execution_count": 4,
   "metadata": {
    "scrolled": false
   },
   "outputs": [
    {
     "data": {
      "image/png": "[encoded data removed]",
      "text/plain": [
       "<Figure size 648x432 with 1 Axes>"
      ]
     },
     "metadata": {},
     "output_type": "display_data"
    }
   ],
   "source": [
    "def plot_value_function_seq(ax,\n",
    "                            c=25,\n",
    "                            β=0.99,\n",
    "                            w_vals=w_vals,\n",
    "                            p_vals=p_vals,\n",
    "                            num_plots=6):\n",
    "\n",
    "    v = w_vals / (1 - β)\n",
    "    v_next = np.empty_like(v)\n",
    "    for i in range(num_plots):\n",
    "        ax.plot(w_vals, v, label=f\"Iteración {i+1}\")\n",
    "        # Actualizar valor de v\n",
    "        for j, w in enumerate(w_vals):\n",
    "            stop_val = w / (1 - β)\n",
    "            cont_val = c + β * np.sum(v * p_vals)\n",
    "            v_next[j] = max(stop_val, cont_val)\n",
    "        v[:] = v_next\n",
    "\n",
    "    ax.legend(loc='lower right')\n",
    "\n",
    "\n",
    "fig, ax = plt.subplots(figsize=(9, 6))\n",
    "plot_value_function_seq(ax)\n",
    "ax.set_xlabel('Salario')\n",
    "ax.set_ylabel('Probabilidad')\n",
    "plt.show()"
   ]
  },
  {
   "cell_type": "code",
   "execution_count": 11,
   "metadata": {},
   "outputs": [
    {
     "data": {
      "text/plain": [
       "47.316499710024964"
      ]
     },
     "execution_count": 11,
     "metadata": {},
     "output_type": "execute_result"
    }
   ],
   "source": [
    "@jit(nopython=True)\n",
    "def compute_reservation_wage(c=25,\n",
    "                             β=0.99,\n",
    "                             w_vals=w_vals,\n",
    "                             p_vals=p_vals,\n",
    "                             max_iter=500,\n",
    "                             tol=1e-6):\n",
    "\n",
    "    # == First compute the value function == #\n",
    "\n",
    "    v = w_vals / (1 - β)\n",
    "    v_next = np.empty_like(v)\n",
    "    i = 0\n",
    "    error = tol + 1\n",
    "    while i < max_iter and error > tol:\n",
    "\n",
    "        for j, w in enumerate(w_vals):\n",
    "            stop_val = w / (1 - β)\n",
    "            cont_val = c + β * np.sum(v * p_vals)\n",
    "            v_next[j] = max(stop_val, cont_val)\n",
    "\n",
    "        error = np.max(np.abs(v_next - v))\n",
    "        i += 1\n",
    "\n",
    "        v[:] = v_next  # copy contents into v\n",
    "\n",
    "    # == Now compute the reservation wage == #\n",
    "\n",
    "    return (1 - β) * (c + β * np.sum(v * p_vals))\n",
    "\n",
    "compute_reservation_wage()"
   ]
  },
  {
   "cell_type": "code",
   "execution_count": 1,
   "metadata": {},
   "outputs": [
    {
     "ename": "NameError",
     "evalue": "name 'np' is not defined",
     "output_type": "error",
     "traceback": [
      "\u001b[0;31m---------------------------------------------------------------------------\u001b[0m",
      "\u001b[0;31mNameError\u001b[0m                                 Traceback (most recent call last)",
      "\u001b[0;32m<ipython-input-1-714a704a4030>\u001b[0m in \u001b[0;36m<module>\u001b[0;34m()\u001b[0m\n\u001b[1;32m      1\u001b[0m \u001b[0mgrid_size\u001b[0m \u001b[0;34m=\u001b[0m \u001b[0;36m25\u001b[0m\u001b[0;34m\u001b[0m\u001b[0m\n\u001b[0;32m----> 2\u001b[0;31m \u001b[0mR\u001b[0m \u001b[0;34m=\u001b[0m \u001b[0mnp\u001b[0m\u001b[0;34m.\u001b[0m\u001b[0mempty\u001b[0m\u001b[0;34m(\u001b[0m\u001b[0;34m(\u001b[0m\u001b[0mgrid_size\u001b[0m\u001b[0;34m,\u001b[0m \u001b[0mgrid_size\u001b[0m\u001b[0;34m)\u001b[0m\u001b[0;34m)\u001b[0m\u001b[0;34m\u001b[0m\u001b[0m\n\u001b[0m\u001b[1;32m      3\u001b[0m \u001b[0;34m\u001b[0m\u001b[0m\n\u001b[1;32m      4\u001b[0m \u001b[0mc_vals\u001b[0m \u001b[0;34m=\u001b[0m \u001b[0mnp\u001b[0m\u001b[0;34m.\u001b[0m\u001b[0mlinspace\u001b[0m\u001b[0;34m(\u001b[0m\u001b[0;36m10.0\u001b[0m\u001b[0;34m,\u001b[0m \u001b[0;36m30.0\u001b[0m\u001b[0;34m,\u001b[0m \u001b[0mgrid_size\u001b[0m\u001b[0;34m)\u001b[0m\u001b[0;34m\u001b[0m\u001b[0m\n\u001b[1;32m      5\u001b[0m \u001b[0mβ_vals\u001b[0m \u001b[0;34m=\u001b[0m \u001b[0mnp\u001b[0m\u001b[0;34m.\u001b[0m\u001b[0mlinspace\u001b[0m\u001b[0;34m(\u001b[0m\u001b[0;36m0.9\u001b[0m\u001b[0;34m,\u001b[0m \u001b[0;36m0.99\u001b[0m\u001b[0;34m,\u001b[0m \u001b[0mgrid_size\u001b[0m\u001b[0;34m)\u001b[0m\u001b[0;34m\u001b[0m\u001b[0m\n",
      "\u001b[0;31mNameError\u001b[0m: name 'np' is not defined"
     ]
    }
   ],
   "source": [
    "grid_size = 25\n",
    "R = np.empty((grid_size, grid_size))\n",
    "\n",
    "c_vals = np.linspace(10.0, 30.0, grid_size)\n",
    "β_vals = np.linspace(0.9, 0.99, grid_size)\n",
    "\n",
    "for i, c in enumerate(c_vals):\n",
    "    for j, β in enumerate(β_vals):\n",
    "        R[i, j] = compute_reservation_wage(c=c, β=β)\n",
    "\n",
    "fig, ax = plt.subplots(figsize=(10, 5.7))\n",
    "\n",
    "cs1 = ax.contourf(c_vals, β_vals, R.T, alpha=0.75)\n",
    "ctr1 = ax.contour(c_vals, β_vals, R.T)\n",
    "\n",
    "plt.clabel(ctr1, inline=1, fontsize=13)\n",
    "plt.colorbar(cs1, ax=ax)\n",
    "\n",
    "\n",
    "ax.set_title(\"reservation wage\")\n",
    "ax.set_xlabel(\"$c$\")\n",
    "ax.set_ylabel(\"$β$\")\n",
    "\n",
    "ax.ticklabel_format(useOffset=False)\n",
    "\n",
    "plt.show()"
   ]
  }
 ],
 "metadata": {
  "kernelspec": {
   "display_name": "Python 3",
   "language": "python",
   "name": "python3"
  },
  "language_info": {
   "codemirror_mode": {
    "name": "ipython",
    "version": 3
   },
   "file_extension": ".py",
   "mimetype": "text/x-python",
   "name": "python",
   "nbconvert_exporter": "python",
   "pygments_lexer": "ipython3",
   "version": "3.6.4"
  }
 },
 "nbformat": 4,
 "nbformat_minor": 2
}
